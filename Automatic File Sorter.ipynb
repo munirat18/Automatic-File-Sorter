{
 "cells": [
  {
   "cell_type": "markdown",
   "id": "492b9be5-4e9b-4300-b009-1c43db42dc91",
   "metadata": {},
   "source": [
    "Automatic File Sorter in File Explorer"
   ]
  },
  {
   "cell_type": "code",
   "execution_count": 2,
   "id": "7e74b547-7bc9-456a-b49e-1532e227b891",
   "metadata": {},
   "outputs": [],
   "source": [
    "import os, shutil"
   ]
  },
  {
   "cell_type": "code",
   "execution_count": 3,
   "id": "abd3b3d4-48f7-41fe-a943-d94cfe027a41",
   "metadata": {},
   "outputs": [],
   "source": [
    "path = r\"C:/Users/onire/Desktop/flash/NYSC DOCS/\""
   ]
  },
  {
   "cell_type": "code",
   "execution_count": 4,
   "id": "0736456d-e9e2-4a74-98f9-eeb3849d4c47",
   "metadata": {},
   "outputs": [],
   "source": [
    "file_name = os.listdir(path)"
   ]
  },
  {
   "cell_type": "code",
   "execution_count": 5,
   "id": "f9a6166d-b131-4b60-919f-45eaeeb61707",
   "metadata": {},
   "outputs": [
    {
     "name": "stdout",
     "output_type": "stream",
     "text": [
      "C:/Users/onire/Desktop/flash/NYSC DOCS/image_files\n"
     ]
    }
   ],
   "source": [
    "folder_names = ['pdf_files', 'txt_files', 'image_files']\n",
    "\n",
    "for loop in range(0,3):\n",
    "    if not os.path.exists(path + folder_names[loop]):\n",
    "        print(path + folder_names[loop])\n",
    "        os.makedirs(path + folder_names[loop])\n",
    "\n",
    "for file in file_name:\n",
    "    if \".pdf\" in file and not os.path.exists(path + \"pdf_files/\" + file):\n",
    "        shutil.move(path + file, path + \"pdf_files/\" + file)\n",
    "    elif \".txt\" in file and not os.path.exists(path + \"txt_files/\" + file):\n",
    "        shutil.move(path + file, path + \"txt_files/\" + file)\n",
    "    elif \".jpg\" in file and not os.path.exists(path + \"image_files/\" + file):\n",
    "        shutil.move(path + file, path + \"image_files/\" + file)\n"
   ]
  },
  {
   "cell_type": "code",
   "execution_count": 19,
   "id": "8325544f-53ef-4ef4-a260-6a37f61ce35a",
   "metadata": {},
   "outputs": [],
   "source": []
  },
  {
   "cell_type": "code",
   "execution_count": null,
   "id": "8fb5821a-fcb7-43c8-8630-ee7ab2498038",
   "metadata": {},
   "outputs": [],
   "source": []
  },
  {
   "cell_type": "code",
   "execution_count": null,
   "id": "cd6532cc-1d2e-460a-a3de-744030922753",
   "metadata": {},
   "outputs": [],
   "source": []
  },
  {
   "cell_type": "code",
   "execution_count": null,
   "id": "7cdb566f-1daa-4384-90fe-f2bc1377a502",
   "metadata": {},
   "outputs": [],
   "source": []
  },
  {
   "cell_type": "code",
   "execution_count": null,
   "id": "39921679-f396-454f-91a9-4b3fac5296e0",
   "metadata": {},
   "outputs": [],
   "source": []
  },
  {
   "cell_type": "code",
   "execution_count": null,
   "id": "1bbfdec5-b721-4ca2-8e37-f14d90cd5444",
   "metadata": {},
   "outputs": [],
   "source": []
  }
 ],
 "metadata": {
  "kernelspec": {
   "display_name": "Python 3 (ipykernel)",
   "language": "python",
   "name": "python3"
  },
  "language_info": {
   "codemirror_mode": {
    "name": "ipython",
    "version": 3
   },
   "file_extension": ".py",
   "mimetype": "text/x-python",
   "name": "python",
   "nbconvert_exporter": "python",
   "pygments_lexer": "ipython3",
   "version": "3.11.5"
  }
 },
 "nbformat": 4,
 "nbformat_minor": 5
}
